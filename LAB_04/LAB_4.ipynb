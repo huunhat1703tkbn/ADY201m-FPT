{
 "cells": [
  {
   "attachments": {},
   "cell_type": "markdown",
   "id": "2085dfcc",
   "metadata": {},
   "source": [
    "# Jupyter Notebook\n",
    "\n",
    "<div>\n",
    "    <img src=\"https://github.com/jupyter/notebook/workflows/Build/badge.svg\" width=\"90\" height=\"20\" style=\"display:inline-block;\"/>\n",
    "        <img src=\"https://camo.githubusercontent.com/90d91e262a7444b070b4fbf9955f33b74b8f175a0e0d8dc7aaf4b7cb63fb9f67/68747470733a2f2f72656164746865646f63732e6f72672f70726f6a656374732f6a7570797465722d6e6f7465626f6f6b2f62616467652f3f76657273696f6e3d6c6174657374\" width=\"80\" height=\"20\" style=\"display:inline-block;\"/>\n",
    "        <img src=\"https://camo.githubusercontent.com/581c077bdbc6ca6899c86d0acc6145ae85e9d80e6f805a1071793dbe48917982/68747470733a2f2f6d7962696e6465722e6f72672f62616467655f6c6f676f2e737667\" width=\"100\" height=\"20\" style=\"display:inline-block;\"/>\n",
    "        <img src=\"https://camo.githubusercontent.com/0863d140186864ca9f93ded019e623e95f4778d951ecf2b1cd7fd6fa4e54e1c6/68747470733a2f2f636f6465636f762e696f2f67682f6a7570797465722f6e6f7465626f6f6b2f6272616e63682f6d61737465722f67726170682f62616467652e737667\" width=\"120\" height=\"20\"style=\"display:inline-block;\"/>\n",
    "\n",
    "</div>\n",
    "The Jupyter notebook is a web-based notebook environment for interactive computing."
   ]
  },
  {
   "attachments": {},
   "cell_type": "markdown",
   "id": "fd8c9a1b",
   "metadata": {},
   "source": [
    "<img src=\"https://github.com/jupyter/notebook/raw/main/docs/resources/running_code_med.png\"/>"
   ]
  },
  {
   "attachments": {},
   "cell_type": "markdown",
   "id": "08faf1cc",
   "metadata": {},
   "source": [
    "## Maintained versions\n",
    "We maintain the <b>two most recently released major versions of Jupyter Notebook</b>, Notebook v5 and Classic Notebook v6. After Notebook v7.0 is released, we will no longer maintain Notebook v5. All Notebook v5 users are strongly advised to upgrade to Classic Notebook v6 as soon as possible.\n",
    "\n",
    "The Jupyter Notebook project is currently undertaking a transition to a more modern code base built from the ground-up using JupyterLab components and extensions.\n",
    "\n",
    "There is new stream of work which was submitted and then accepted as a Jupyter Enhancement Proposal (JEP) as part of the next version (v7): <a href=\"https://jupyter.org/enhancement-proposals/79-notebook-v7/notebook-v7.html\">https://jupyter.org/enhancement-proposals/79-notebook-v7/notebook-v7.html</a>\n",
    "\n",
    "There is also a plan to continue maintaining Notebook v6 with bug and security fixes only, to ease the transition to Notebook v7: [jupyter/notebook-team-compass#5](#Start)(comment)\n",
    "\n",
    "### Notebook v7\n",
    "The next major version of Notebook will be based on:\n",
    "<ul>\n",
    "    <li>JupyterLab components for the frontend</li>\n",
    "    <li>Jupyter Server for the Python server This represents a significant change to the <code>jupyter/notebook</code> code base.</li>\n",
    "</ul> \n",
    "\n",
    "To learn more about Notebook v7: <a href=\"https://jupyter.org/enhancement-proposals/79-notebook-v7/notebook-v7.html\">https://jupyter.org/enhancement-proposals/79-notebook-v7/notebook-v7.html</a>\n",
    "\n",
    "### Classic Notebook v6\n",
    "Maintainance and security-related issues are now being addressed in the [6.4.x](#Start) branch.\n",
    "\n",
    "A `6.5.x` branch will be soon created and will depend on [nbclassic](#Start) for the HTML/JavaScript/CSS assets.\n",
    "\n",
    "New features and continuous improvement is now focused on Notebook v7 (see section above).\n",
    "\n",
    "If you have an open pull request with a new feature or if you were planning to open one, we encourage switching over to the Jupyter Server and JupyterLab architecture, and distribute it as a server extension and / or JupyterLab prebuilt extension. That way your new feature will also be compatible with the new Notebook v7.\n",
    "\n",
    "## Jupyter notebook, the language-agnostic evolution of IPython notebook\n",
    "Jupyter notebook is a language-agnostic HTML notebook application for Project Jupyter. In 2015, Jupyter notebook was released as a part of The Big Split™ of the IPython codebase. IPython 3 was the last major monolithic release containing both language-agnostic code, such as the <i>IPython notebook</i>, and language specific code, such as the <i>IPython kernel for Python</i>. As computing spans across many languages, Project Jupyter will continue to develop the language-agnostic <b>Jupyter notebook </b>  in this repo and with the help of the community develop language specific kernels which are found in their own discrete repos.\n",
    "\n",
    "* [The Big Split™ announcement](#Start) \n",
    "* [Jupyter Ascending blog post](#Start) \n",
    "\n",
    "## Installation\n",
    "\n",
    "You can find the installation documentation for the Jupyter platform, on ReadTheDocs. The documentation for advanced usage of Jupyter notebook can be found here.\n",
    "\n",
    "For a local installation, make sure you have pip installed and run:\n",
    "\n",
    "`pip install notebook`\n",
    "\n",
    "## Usage - Running Jupyter notebook\n",
    "#### Running in a local installation\n",
    "Launch with:\n",
    "\n",
    "`jupyter notebook`\n",
    "\n",
    "#### Running in a remote installation\n",
    "You need some configuration before starting Jupyter notebook remotely. See [Running a notebook server](#Start).\n",
    "\n",
    "## Development Installation\n",
    "See [CONTRIBUTING.md](#Start) for how to set up a local development installation.\n",
    "\n",
    "## Contributing\n",
    "If you are interested in contributing to the project, see [CONTRIBUTING.md](#Start).\n",
    "\n",
    "## Community Guidelines and Code of Conduct\n",
    "This repository is a Jupyter project and follows the Jupyter [Community Guides and Code of Conduct](#Start).\n",
    "\n",
    "## Resources\n",
    "* [Project Jupyter website](#Start) \n",
    "* [Online Demo at <a href=\"Online Demo at jupyter.org/try\" >jupyter.org/try</a>](#Start) \n",
    "* [Documentation for Jupyter notebook [PDF]](#Start) \n",
    "* [Korean Version of Installation](#Start) \n",
    "* [Documentation for Project Jupyter [PDF]](#Start) \n",
    "* [CIssues](#Start) \n",
    "* [Technical support - Jupyter Google Group](#Start) \n"
   ]
  }
 ],
 "metadata": {
  "kernelspec": {
   "display_name": "Python 3 (ipykernel)",
   "language": "python",
   "name": "python3"
  },
  "language_info": {
   "codemirror_mode": {
    "name": "ipython",
    "version": 3
   },
   "file_extension": ".py",
   "mimetype": "text/x-python",
   "name": "python",
   "nbconvert_exporter": "python",
   "pygments_lexer": "ipython3",
   "version": "3.9.13"
  }
 },
 "nbformat": 4,
 "nbformat_minor": 5
}
