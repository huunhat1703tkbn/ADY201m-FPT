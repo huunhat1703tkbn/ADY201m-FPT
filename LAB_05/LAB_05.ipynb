{
 "cells": [
  {
   "cell_type": "markdown",
   "id": "f1b0de4f-c980-47cf-9b84-99595d3c6555",
   "metadata": {},
   "source": [
    "<center>\n",
    "    <img src=\"https://upload.wikimedia.org/wikipedia/vi/1/1d/Logo_%C4%90%E1%BA%A1i_h%E1%BB%8Dc_FPT.png\" width=\"300\" alt=\"cognitiveclass.ai logo\"  />\n",
    "</center>\n",
    "\n",
    "# Lab 5: WebScraping\n",
    "\n",
    "<br>\n",
    "\n",
    "#### Class name: AI1708\n",
    "\n",
    "#### Student code: HE170351\n",
    "\n",
    "#### Student name: Trương Hữu Nhật\n",
    "\n",
    "<br>\n",
    "\n",
    "## Objectives\n",
    "\n",
    "After completing this lab you will be able to:\n",
    "\n",
    "*   Understand REST APIs\n",
    "*   Using BeautifulSoup module for webscraping\n",
    "\n",
    "\n",
    "Estimated time needed: **60** minutes"
   ]
  },
  {
   "cell_type": "code",
   "execution_count": null,
   "id": "e5926a87-2496-4e20-9556-ae0e5ed20fde",
   "metadata": {},
   "outputs": [],
   "source": [
    "# This lab require some library packages. If error happen when running please uncomment lines below to install them:\n",
    "\n",
    "# !conda install bs4==4.10.0 -y\n",
    "# !pip install lxml==4.6.4\n",
    "# !conda install html5lib==1.1 -y\n",
    "# !pip install requests==2.26.0"
   ]
  },
  {
   "cell_type": "markdown",
   "id": "dc793706-ce60-4b1a-a031-6c05d28e0f2b",
   "metadata": {},
   "source": [
    "## 1. Example code"
   ]
  },
  {
   "cell_type": "code",
   "execution_count": 1,
   "id": "8fcbf1af-2865-44ba-966e-c1ae835b3721",
   "metadata": {},
   "outputs": [
    {
     "name": "stdout",
     "output_type": "stream",
     "text": [
      "Select Campus\n",
      "FU-Hòa Lạc\n",
      "FU-Hồ Chí Minh\n",
      "FU-Đà Nẵng\n",
      "FU-Cần Thơ\n",
      "FU-Quy Nhơn\n"
     ]
    }
   ],
   "source": [
    "import requests\n",
    "from bs4 import BeautifulSoup\n",
    "\n",
    "page = requests.get(\"https://fap.fpt.edu.vn/\").text\n",
    "\n",
    "# Create a BeatifulSoup object\n",
    "soup = BeautifulSoup(page, \"html.parser\")\n",
    "\n",
    "# Select html tag by id\n",
    "#print(soup.find(\"select\", {\"id\": \"ctl00_mainContent_ddlCampus\"}))\n",
    "\n",
    "# Pulls all instances of <option> tag\n",
    "campus_options = soup.find_all('option')\n",
    "\n",
    "# print all log in option\n",
    "for option in campus_options:\n",
    "    text = option.contents[0]\n",
    "    print(text)"
   ]
  },
  {
   "cell_type": "markdown",
   "id": "c0ca96fd-aa83-4c97-9102-ff9a4363dbe2",
   "metadata": {},
   "source": [
    "## 2. Data source\n",
    "Implement that code by change the URL\n",
    "\n",
    "* https://Giavang.net\n",
    "\n",
    "* https://webgia.com/\n",
    "\n",
    "* https://giavangvn.org/\n",
    "\n",
    "* https://www.invert.vn/gia-vang-hom-nay-ar4022\n",
    "\n",
    "or any other URL that you can find!\n"
   ]
  },
  {
   "cell_type": "markdown",
   "id": "fbaa72a7-3d1b-4f86-aaa0-7266e795122b",
   "metadata": {},
   "source": [
    "## 3. Tasks"
   ]
  },
  {
   "cell_type": "markdown",
   "id": "57795be9-2732-4359-a70c-be85ac9f6ae8",
   "metadata": {},
   "source": [
    "### 3.1 Getting the data\n",
    "\n",
    "Using Webscraping to crawling data of SJC gold price in major cities and provinces in Vietnam. The data should have more than 10 records. Display a table to show the data. "
   ]
  },
  {
   "cell_type": "code",
   "execution_count": 2,
   "id": "8d0559cf-26af-4736-a8f3-d705eb2eaf7e",
   "metadata": {},
   "outputs": [],
   "source": [
    "# Enter code here\n",
    "import requests\n",
    "from bs4 import BeautifulSoup\n",
    "import pandas as pd"
   ]
  },
  {
   "cell_type": "code",
   "execution_count": 3,
   "id": "285536d4",
   "metadata": {},
   "outputs": [],
   "source": [
    "url = \"https://giavang.org/trong-nuoc/\"\n",
    "response = requests.get(url)\n",
    "soup = BeautifulSoup(response.text, 'html.parser')"
   ]
  },
  {
   "cell_type": "code",
   "execution_count": 4,
   "id": "ecec39c7",
   "metadata": {},
   "outputs": [],
   "source": [
    "data = []\n",
    "table = soup.find(\"table\", class_=\"table table-bordered table-hover table-striped\")\n",
    "for i in table.find_all('tbody'):\n",
    "    rows = i.find_all(\"tr\")\n",
    "    for row in rows:\n",
    "        province_cell = row.find('th')\n",
    "        if province_cell:\n",
    "            province = province_cell.text\n",
    "            system_cell = row.find('td').find('a')\n",
    "            system = system_cell.text\n",
    "            if system == 'SJC':\n",
    "                sjc_data = row.find_all('td')[1:3] \n",
    "                buy_price = sjc_data[0].text.strip()\n",
    "                sell_price = sjc_data[1].text.strip()\n",
    "                data.append([province, system, buy_price, sell_price])\n",
    "   "
   ]
  },
  {
   "cell_type": "code",
   "execution_count": 102,
   "id": "71f8c07c",
   "metadata": {},
   "outputs": [
    {
     "data": {
      "text/html": [
       "<div>\n",
       "<style scoped>\n",
       "    .dataframe tbody tr th:only-of-type {\n",
       "        vertical-align: middle;\n",
       "    }\n",
       "\n",
       "    .dataframe tbody tr th {\n",
       "        vertical-align: top;\n",
       "    }\n",
       "\n",
       "    .dataframe thead th {\n",
       "        text-align: right;\n",
       "    }\n",
       "</style>\n",
       "<table border=\"1\" class=\"dataframe\">\n",
       "  <thead>\n",
       "    <tr style=\"text-align: right;\">\n",
       "      <th></th>\n",
       "      <th>Khu vực</th>\n",
       "      <th>Hệ thống</th>\n",
       "      <th>Mua vào</th>\n",
       "      <th>Bán ra</th>\n",
       "    </tr>\n",
       "  </thead>\n",
       "  <tbody>\n",
       "    <tr>\n",
       "      <th>0</th>\n",
       "      <td>TP. Hồ Chí Minh</td>\n",
       "      <td>SJC</td>\n",
       "      <td>66.450</td>\n",
       "      <td>67.050</td>\n",
       "    </tr>\n",
       "    <tr>\n",
       "      <th>1</th>\n",
       "      <td>Hà Nội</td>\n",
       "      <td>SJC</td>\n",
       "      <td>66.450</td>\n",
       "      <td>67.070</td>\n",
       "    </tr>\n",
       "    <tr>\n",
       "      <th>2</th>\n",
       "      <td>Đà Nẵng</td>\n",
       "      <td>SJC</td>\n",
       "      <td>66.450</td>\n",
       "      <td>67.070</td>\n",
       "    </tr>\n",
       "    <tr>\n",
       "      <th>3</th>\n",
       "      <td>Nha Trang</td>\n",
       "      <td>SJC</td>\n",
       "      <td>66.450</td>\n",
       "      <td>67.070</td>\n",
       "    </tr>\n",
       "    <tr>\n",
       "      <th>4</th>\n",
       "      <td>Cà Mau</td>\n",
       "      <td>SJC</td>\n",
       "      <td>66.450</td>\n",
       "      <td>67.070</td>\n",
       "    </tr>\n",
       "    <tr>\n",
       "      <th>5</th>\n",
       "      <td>Huế</td>\n",
       "      <td>SJC</td>\n",
       "      <td>66.420</td>\n",
       "      <td>66.830</td>\n",
       "    </tr>\n",
       "    <tr>\n",
       "      <th>6</th>\n",
       "      <td>Miền Tây</td>\n",
       "      <td>SJC</td>\n",
       "      <td>66.650</td>\n",
       "      <td>67.070</td>\n",
       "    </tr>\n",
       "    <tr>\n",
       "      <th>7</th>\n",
       "      <td>Biên Hòa</td>\n",
       "      <td>SJC</td>\n",
       "      <td>66.450</td>\n",
       "      <td>67.050</td>\n",
       "    </tr>\n",
       "    <tr>\n",
       "      <th>8</th>\n",
       "      <td>Quảng Ngãi</td>\n",
       "      <td>SJC</td>\n",
       "      <td>66.450</td>\n",
       "      <td>67.050</td>\n",
       "    </tr>\n",
       "    <tr>\n",
       "      <th>9</th>\n",
       "      <td>Long Xuyên</td>\n",
       "      <td>SJC</td>\n",
       "      <td>66.450</td>\n",
       "      <td>67.050</td>\n",
       "    </tr>\n",
       "    <tr>\n",
       "      <th>10</th>\n",
       "      <td>Bạc Liêu</td>\n",
       "      <td>SJC</td>\n",
       "      <td>66.470</td>\n",
       "      <td>67.100</td>\n",
       "    </tr>\n",
       "    <tr>\n",
       "      <th>11</th>\n",
       "      <td>Quy Nhơn</td>\n",
       "      <td>SJC</td>\n",
       "      <td>66.450</td>\n",
       "      <td>67.070</td>\n",
       "    </tr>\n",
       "    <tr>\n",
       "      <th>12</th>\n",
       "      <td>Phan Rang</td>\n",
       "      <td>SJC</td>\n",
       "      <td>66.430</td>\n",
       "      <td>67.070</td>\n",
       "    </tr>\n",
       "    <tr>\n",
       "      <th>13</th>\n",
       "      <td>Hạ Long</td>\n",
       "      <td>SJC</td>\n",
       "      <td>66.430</td>\n",
       "      <td>67.070</td>\n",
       "    </tr>\n",
       "    <tr>\n",
       "      <th>14</th>\n",
       "      <td>Quảng Nam</td>\n",
       "      <td>SJC</td>\n",
       "      <td>66.430</td>\n",
       "      <td>67.070</td>\n",
       "    </tr>\n",
       "  </tbody>\n",
       "</table>\n",
       "</div>"
      ],
      "text/plain": [
       "            Khu vực Hệ thống Mua vào  Bán ra\n",
       "0   TP. Hồ Chí Minh      SJC  66.450  67.050\n",
       "1            Hà Nội      SJC  66.450  67.070\n",
       "2           Đà Nẵng      SJC  66.450  67.070\n",
       "3         Nha Trang      SJC  66.450  67.070\n",
       "4            Cà Mau      SJC  66.450  67.070\n",
       "5               Huế      SJC  66.420  66.830\n",
       "6          Miền Tây      SJC  66.650  67.070\n",
       "7          Biên Hòa      SJC  66.450  67.050\n",
       "8        Quảng Ngãi      SJC  66.450  67.050\n",
       "9        Long Xuyên      SJC  66.450  67.050\n",
       "10         Bạc Liêu      SJC  66.470  67.100\n",
       "11         Quy Nhơn      SJC  66.450  67.070\n",
       "12        Phan Rang      SJC  66.430  67.070\n",
       "13          Hạ Long      SJC  66.430  67.070\n",
       "14        Quảng Nam      SJC  66.430  67.070"
      ]
     },
     "execution_count": 102,
     "metadata": {},
     "output_type": "execute_result"
    }
   ],
   "source": [
    "golden_df = pd.DataFrame(data, columns=['Khu vực', 'Hệ thống', 'Mua vào', 'Bán ra'])\n",
    "golden_df"
   ]
  },
  {
   "cell_type": "code",
   "execution_count": 105,
   "id": "52718979",
   "metadata": {},
   "outputs": [
    {
     "name": "stdout",
     "output_type": "stream",
     "text": [
      "<class 'pandas.core.frame.DataFrame'>\n",
      "RangeIndex: 15 entries, 0 to 14\n",
      "Data columns (total 4 columns):\n",
      " #   Column    Non-Null Count  Dtype \n",
      "---  ------    --------------  ----- \n",
      " 0   Khu vực   15 non-null     object\n",
      " 1   Hệ thống  15 non-null     object\n",
      " 2   Mua vào   15 non-null     object\n",
      " 3   Bán ra    15 non-null     object\n",
      "dtypes: object(4)\n",
      "memory usage: 608.0+ bytes\n"
     ]
    }
   ],
   "source": [
    "golden_df.info()"
   ]
  },
  {
   "cell_type": "code",
   "execution_count": 106,
   "id": "ef857901",
   "metadata": {},
   "outputs": [],
   "source": [
    "golden_df['Mua vào'] = golden_df['Mua vào'].astype('float')\n",
    "golden_df['Bán ra'] = golden_df['Bán ra'].astype('float')"
   ]
  },
  {
   "cell_type": "markdown",
   "id": "463a4276-9163-4e87-9b55-d9519289ab86",
   "metadata": {},
   "source": [
    "### 3.2 Max gold price\n",
    "\n",
    "Which province has the highest gold selling price?"
   ]
  },
  {
   "cell_type": "code",
   "execution_count": 103,
   "id": "4d82f0f7-6618-4461-affa-bf033913f2e8",
   "metadata": {},
   "outputs": [
    {
     "name": "stdout",
     "output_type": "stream",
     "text": [
      "Province with the highest gold selling price: Bạc Liêu\n"
     ]
    }
   ],
   "source": [
    "# Enter code here\n",
    "province_highest_price = golden_df.sort_values('Bán ra', ascending=False).iloc[0]['Khu vực']\n",
    "print(\"Province with the highest gold selling price:\", province_highest_price)"
   ]
  },
  {
   "cell_type": "markdown",
   "id": "61e622db-e0ff-482a-b8b5-af5de8203451",
   "metadata": {},
   "source": [
    "### 3.3 Buying and Selling price difference \n",
    "\n",
    "Which provinces have the biggest difference in selling and buying prices?"
   ]
  },
  {
   "cell_type": "code",
   "execution_count": 107,
   "id": "e3e9c56d-c635-4678-921e-a09d5e9e45b9",
   "metadata": {},
   "outputs": [
    {
     "name": "stdout",
     "output_type": "stream",
     "text": [
      "Provinces with the biggest difference in selling and buying prices: Phan Rang, Hạ Long, Quảng Nam\n"
     ]
    }
   ],
   "source": [
    "# Enter code here\n",
    "golden_df['Difference'] = golden_df['Bán ra'] - golden_df['Mua vào']\n",
    "\n",
    "# Find the province with the biggest difference\n",
    "max_difference = golden_df['Difference'].max()\n",
    "provinces_with_max_difference = golden_df.loc[golden_df['Difference'] == max_difference, 'Khu vực']\n",
    "\n",
    "# Print the result\n",
    "print(\"Provinces with the biggest difference in selling and buying prices: \" + ', '.join(provinces_with_max_difference))"
   ]
  },
  {
   "cell_type": "markdown",
   "id": "8e55cbd5-288d-452e-a99a-512d33bb9493",
   "metadata": {},
   "source": [
    "### 3.4 Average\n",
    "\n",
    "Find the average buying and selling price"
   ]
  },
  {
   "cell_type": "code",
   "execution_count": 111,
   "id": "dfc8b0ca-783b-4402-be30-69aa9fcaaa57",
   "metadata": {},
   "outputs": [
    {
     "name": "stdout",
     "output_type": "stream",
     "text": [
      "Average Buying Price: 66.459\n",
      "Average Selling Price: 67.051\n"
     ]
    }
   ],
   "source": [
    "# Enter code here\n",
    "average_buying_price = round(golden_df['Mua vào'].mean(), 3)\n",
    "average_selling_price = round(golden_df['Bán ra'].mean(), 3)\n",
    "\n",
    "# Print the results\n",
    "print(\"Average Buying Price:\", average_buying_price)\n",
    "print(\"Average Selling Price:\", average_selling_price)"
   ]
  },
  {
   "cell_type": "markdown",
   "id": "e031c33d-ba10-4b44-a3fe-8fd3a29c23b4",
   "metadata": {},
   "source": [
    "### 3.5 Max difference\n",
    "\n",
    "Find the difference between highest buying price and lowest selling price "
   ]
  },
  {
   "cell_type": "code",
   "execution_count": 115,
   "id": "ab84e8fe-dc8c-4c26-ae62-99871ec3f29e",
   "metadata": {},
   "outputs": [
    {
     "name": "stdout",
     "output_type": "stream",
     "text": [
      "Difference between highest buying price and lowest selling price: -0.18\n"
     ]
    }
   ],
   "source": [
    "# Enter code here\n",
    "highest_buying_price = golden_df['Mua vào'].max()\n",
    "lowest_selling_price = golden_df['Bán ra'].min()\n",
    "\n",
    "# Calculate the difference\n",
    "price_difference = round(highest_buying_price - lowest_selling_price, 3)\n",
    "\n",
    "# Print the difference\n",
    "print(\"Difference between highest buying price and lowest selling price:\", price_difference)"
   ]
  },
  {
   "cell_type": "markdown",
   "id": "48c8e44c-2e57-4e27-beda-457c3ed6e2cd",
   "metadata": {},
   "source": [
    "## Author\n",
    "\n",
    "#### <a href=\"\" target=\"_blank\">Do Thai Giang</a>\n",
    "\n",
    "## Change Log\n",
    "\n",
    "| Date (YYYY-MM-DD) | Version | Changed By | Change Description                 |\n",
    "| ----------------- | ------- | ---------- | ---------------------------------- |\n",
    "| 2022-10-24        | 1.0     | Giangdt26  | Create the 1st version             |\n",
    "|                   |         |            |                                    |\n",
    "|                   |         |            |                                    |\n",
    "\n",
    "<hr>\n",
    "\n",
    "## <h3 align=\"center\"> © FPT University. All rights reserved. <h3/>\n"
   ]
  },
  {
   "cell_type": "code",
   "execution_count": null,
   "id": "2cb51cc1-6462-42dc-bd38-225afb8eb8ac",
   "metadata": {},
   "outputs": [],
   "source": []
  }
 ],
 "metadata": {
  "kernelspec": {
   "display_name": "Python 3 (ipykernel)",
   "language": "python",
   "name": "python3"
  },
  "language_info": {
   "codemirror_mode": {
    "name": "ipython",
    "version": 3
   },
   "file_extension": ".py",
   "mimetype": "text/x-python",
   "name": "python",
   "nbconvert_exporter": "python",
   "pygments_lexer": "ipython3",
   "version": "3.9.13"
  }
 },
 "nbformat": 4,
 "nbformat_minor": 5
}
