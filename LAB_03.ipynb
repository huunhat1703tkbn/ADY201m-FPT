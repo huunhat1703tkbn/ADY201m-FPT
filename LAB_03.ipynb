{
 "cells": [
  {
   "cell_type": "code",
   "execution_count": 1,
   "id": "a2af01c6",
   "metadata": {},
   "outputs": [],
   "source": [
    "import pyodbc\n",
    "import pandas as pd\n",
    "import warnings\n",
    "\n",
    "warnings.filterwarnings('ignore')"
   ]
  },
  {
   "cell_type": "code",
   "execution_count": 3,
   "id": "eedfc439",
   "metadata": {},
   "outputs": [
    {
     "name": "stdout",
     "output_type": "stream",
     "text": [
      "Connected to Server: HE170351\n",
      "Database: LAB_03\n"
     ]
    }
   ],
   "source": [
    "server = \"HE170351\" # database server name\n",
    "database = \"LAB_03\"  # database name\n",
    "\n",
    "connection_str = (\"Driver={SQL Server Native Client 11.0};\"\n",
    "                 \"Server=\" + server + \";\"\n",
    "                 \"Database=\" + database + \";\"\n",
    "                 \"Trusted_Connection=yes;\")\n",
    "\n",
    "try:\n",
    "    connection = pyodbc.connect(connection_str)\n",
    "    print(\"Connected to Server: \" + server + \"\\nDatabase: \"+ database)\n",
    "except pyodbc.Error as ex:\n",
    "    sqlstate = ex.args[1]\n",
    "    print(\"Unable to connect: \" + sqlstate)"
   ]
  },
  {
   "cell_type": "markdown",
   "id": "a31fa285",
   "metadata": {},
   "source": [
    "### Count the number of elementary school, middle school and high school in a query."
   ]
  },
  {
   "cell_type": "code",
   "execution_count": 12,
   "id": "0a3691a5",
   "metadata": {},
   "outputs": [
    {
     "data": {
      "text/html": [
       "<div>\n",
       "<style scoped>\n",
       "    .dataframe tbody tr th:only-of-type {\n",
       "        vertical-align: middle;\n",
       "    }\n",
       "\n",
       "    .dataframe tbody tr th {\n",
       "        vertical-align: top;\n",
       "    }\n",
       "\n",
       "    .dataframe thead th {\n",
       "        text-align: right;\n",
       "    }\n",
       "</style>\n",
       "<table border=\"1\" class=\"dataframe\">\n",
       "  <thead>\n",
       "    <tr style=\"text-align: right;\">\n",
       "      <th></th>\n",
       "      <th>Elementary_School</th>\n",
       "      <th>Middle_School</th>\n",
       "      <th>High_School</th>\n",
       "    </tr>\n",
       "  </thead>\n",
       "  <tbody>\n",
       "    <tr>\n",
       "      <th>0</th>\n",
       "      <td>462</td>\n",
       "      <td>11</td>\n",
       "      <td>93</td>\n",
       "    </tr>\n",
       "  </tbody>\n",
       "</table>\n",
       "</div>"
      ],
      "text/plain": [
       "   Elementary_School  Middle_School  High_School\n",
       "0                462             11           93"
      ]
     },
     "execution_count": 12,
     "metadata": {},
     "output_type": "execute_result"
    }
   ],
   "source": [
    "query = \"SELECT SUM(CASE WHEN Elementary_Middle_or_High_School = 'ES' THEN 1 ELSE 0 END) AS Elementary_School, SUM(CASE WHEN Elementary_Middle_or_High_School = 'MS' THEN 1 ELSE 0 END) AS Middle_School,SUM(CASE WHEN Elementary_Middle_or_High_School = 'HS' THEN 1 ELSE 0 END) AS High_School FROM dbo.Chicago\"\n",
    "data = pd.read_sql(query, connection)\n",
    "data"
   ]
  },
  {
   "cell_type": "markdown",
   "id": "28678952",
   "metadata": {},
   "source": [
    "### Find the school that the lowest average student attendance."
   ]
  },
  {
   "cell_type": "code",
   "execution_count": 13,
   "id": "bf41e091",
   "metadata": {
    "scrolled": false
   },
   "outputs": [
    {
     "data": {
      "text/html": [
       "<div>\n",
       "<style scoped>\n",
       "    .dataframe tbody tr th:only-of-type {\n",
       "        vertical-align: middle;\n",
       "    }\n",
       "\n",
       "    .dataframe tbody tr th {\n",
       "        vertical-align: top;\n",
       "    }\n",
       "\n",
       "    .dataframe thead th {\n",
       "        text-align: right;\n",
       "    }\n",
       "</style>\n",
       "<table border=\"1\" class=\"dataframe\">\n",
       "  <thead>\n",
       "    <tr style=\"text-align: right;\">\n",
       "      <th></th>\n",
       "      <th>Name_of_School</th>\n",
       "      <th>Average_Student_Attendance</th>\n",
       "    </tr>\n",
       "  </thead>\n",
       "  <tbody>\n",
       "    <tr>\n",
       "      <th>0</th>\n",
       "      <td>Richard T Crane Technical Preparatory High School</td>\n",
       "      <td>57.900002</td>\n",
       "    </tr>\n",
       "  </tbody>\n",
       "</table>\n",
       "</div>"
      ],
      "text/plain": [
       "                                      Name_of_School  \\\n",
       "0  Richard T Crane Technical Preparatory High School   \n",
       "\n",
       "   Average_Student_Attendance  \n",
       "0                   57.900002  "
      ]
     },
     "execution_count": 13,
     "metadata": {},
     "output_type": "execute_result"
    }
   ],
   "source": [
    "query = \"SELECT TOP 1 Name_of_School,Average_Student_Attendance FROM dbo.Chicago WHERE Average_Student_Attendance IS NOT NULL ORDER BY Average_Student_Attendance\"\n",
    "data = pd.read_sql(query, connection)\n",
    "data"
   ]
  },
  {
   "cell_type": "markdown",
   "id": "3478da7f",
   "metadata": {},
   "source": [
    "### Find the average environment score."
   ]
  },
  {
   "cell_type": "code",
   "execution_count": 14,
   "id": "7a2365cc",
   "metadata": {},
   "outputs": [
    {
     "data": {
      "text/html": [
       "<div>\n",
       "<style scoped>\n",
       "    .dataframe tbody tr th:only-of-type {\n",
       "        vertical-align: middle;\n",
       "    }\n",
       "\n",
       "    .dataframe tbody tr th {\n",
       "        vertical-align: top;\n",
       "    }\n",
       "\n",
       "    .dataframe thead th {\n",
       "        text-align: right;\n",
       "    }\n",
       "</style>\n",
       "<table border=\"1\" class=\"dataframe\">\n",
       "  <thead>\n",
       "    <tr style=\"text-align: right;\">\n",
       "      <th></th>\n",
       "      <th>Average_Environment_Score</th>\n",
       "    </tr>\n",
       "  </thead>\n",
       "  <tbody>\n",
       "    <tr>\n",
       "      <th>0</th>\n",
       "      <td>47</td>\n",
       "    </tr>\n",
       "  </tbody>\n",
       "</table>\n",
       "</div>"
      ],
      "text/plain": [
       "   Average_Environment_Score\n",
       "0                         47"
      ]
     },
     "execution_count": 14,
     "metadata": {},
     "output_type": "execute_result"
    }
   ],
   "source": [
    "query = \"SELECT AVG(Environment_Score) AS Average_Environment_Score FROM dbo.Chicago\"\n",
    "data = pd.read_sql(query, connection)\n",
    "data"
   ]
  },
  {
   "cell_type": "markdown",
   "id": "3ae5091b",
   "metadata": {},
   "source": [
    "### Find the number of Elementary School in community area WEST TOWN."
   ]
  },
  {
   "cell_type": "code",
   "execution_count": 15,
   "id": "cd80fab1",
   "metadata": {},
   "outputs": [
    {
     "data": {
      "text/html": [
       "<div>\n",
       "<style scoped>\n",
       "    .dataframe tbody tr th:only-of-type {\n",
       "        vertical-align: middle;\n",
       "    }\n",
       "\n",
       "    .dataframe tbody tr th {\n",
       "        vertical-align: top;\n",
       "    }\n",
       "\n",
       "    .dataframe thead th {\n",
       "        text-align: right;\n",
       "    }\n",
       "</style>\n",
       "<table border=\"1\" class=\"dataframe\">\n",
       "  <thead>\n",
       "    <tr style=\"text-align: right;\">\n",
       "      <th></th>\n",
       "      <th>Number_Of_Elementary_West_Town</th>\n",
       "    </tr>\n",
       "  </thead>\n",
       "  <tbody>\n",
       "    <tr>\n",
       "      <th>0</th>\n",
       "      <td>17</td>\n",
       "    </tr>\n",
       "  </tbody>\n",
       "</table>\n",
       "</div>"
      ],
      "text/plain": [
       "   Number_Of_Elementary_West_Town\n",
       "0                              17"
      ]
     },
     "execution_count": 15,
     "metadata": {},
     "output_type": "execute_result"
    }
   ],
   "source": [
    "query = \"SELECT COUNT(*) AS Number_Of_Elementary_West_Town FROM dbo.Chicago WHERE Community_Area_Name = 'WEST TOWN' AND Elementary_Middle_or_High_School = 'ES'\"\n",
    "data = pd.read_sql(query, connection)\n",
    "data"
   ]
  },
  {
   "cell_type": "markdown",
   "id": "ec6453c5",
   "metadata": {},
   "source": [
    "### Count all the High School that has name start by letter ‘C’."
   ]
  },
  {
   "cell_type": "code",
   "execution_count": 16,
   "id": "c70f0770",
   "metadata": {},
   "outputs": [
    {
     "data": {
      "text/html": [
       "<div>\n",
       "<style scoped>\n",
       "    .dataframe tbody tr th:only-of-type {\n",
       "        vertical-align: middle;\n",
       "    }\n",
       "\n",
       "    .dataframe tbody tr th {\n",
       "        vertical-align: top;\n",
       "    }\n",
       "\n",
       "    .dataframe thead th {\n",
       "        text-align: right;\n",
       "    }\n",
       "</style>\n",
       "<table border=\"1\" class=\"dataframe\">\n",
       "  <thead>\n",
       "    <tr style=\"text-align: right;\">\n",
       "      <th></th>\n",
       "      <th>Number_Of_High_School_Start_By_C</th>\n",
       "    </tr>\n",
       "  </thead>\n",
       "  <tbody>\n",
       "    <tr>\n",
       "      <th>0</th>\n",
       "      <td>0</td>\n",
       "    </tr>\n",
       "  </tbody>\n",
       "</table>\n",
       "</div>"
      ],
      "text/plain": [
       "   Number_Of_High_School_Start_By_C\n",
       "0                                 0"
      ]
     },
     "execution_count": 16,
     "metadata": {},
     "output_type": "execute_result"
    }
   ],
   "source": [
    "query = \"SELECT COUNT(*) AS Number_Of_High_School_Start_By_C FROM dbo.Chicago WHERE Name_of_School = 'C%' AND Elementary_Middle_or_High_School = 'HS'\"\n",
    "data = pd.read_sql(query, connection)\n",
    "data"
   ]
  },
  {
   "cell_type": "markdown",
   "id": "986340bf",
   "metadata": {},
   "source": [
    "### Find the top 10 Middle School has lowest Safety Score."
   ]
  },
  {
   "cell_type": "code",
   "execution_count": 17,
   "id": "5d6f87e3",
   "metadata": {},
   "outputs": [
    {
     "data": {
      "text/html": [
       "<div>\n",
       "<style scoped>\n",
       "    .dataframe tbody tr th:only-of-type {\n",
       "        vertical-align: middle;\n",
       "    }\n",
       "\n",
       "    .dataframe tbody tr th {\n",
       "        vertical-align: top;\n",
       "    }\n",
       "\n",
       "    .dataframe thead th {\n",
       "        text-align: right;\n",
       "    }\n",
       "</style>\n",
       "<table border=\"1\" class=\"dataframe\">\n",
       "  <thead>\n",
       "    <tr style=\"text-align: right;\">\n",
       "      <th></th>\n",
       "      <th>Name_of_School</th>\n",
       "      <th>Safety_Score</th>\n",
       "    </tr>\n",
       "  </thead>\n",
       "  <tbody>\n",
       "    <tr>\n",
       "      <th>0</th>\n",
       "      <td>Northwest Middle School</td>\n",
       "      <td>34</td>\n",
       "    </tr>\n",
       "    <tr>\n",
       "      <th>1</th>\n",
       "      <td>Irene C. Hernandez Middle School for the Advan...</td>\n",
       "      <td>34</td>\n",
       "    </tr>\n",
       "    <tr>\n",
       "      <th>2</th>\n",
       "      <td>Ames Middle School</td>\n",
       "      <td>38</td>\n",
       "    </tr>\n",
       "    <tr>\n",
       "      <th>3</th>\n",
       "      <td>Thurgood Marshall Middle School</td>\n",
       "      <td>39</td>\n",
       "    </tr>\n",
       "    <tr>\n",
       "      <th>4</th>\n",
       "      <td>Pershing West Middle School</td>\n",
       "      <td>46</td>\n",
       "    </tr>\n",
       "    <tr>\n",
       "      <th>5</th>\n",
       "      <td>Francisco I Madero Middle School</td>\n",
       "      <td>49</td>\n",
       "    </tr>\n",
       "    <tr>\n",
       "      <th>6</th>\n",
       "      <td>Williams Preparatory Academy Middle School</td>\n",
       "      <td>49</td>\n",
       "    </tr>\n",
       "    <tr>\n",
       "      <th>7</th>\n",
       "      <td>Logandale Middle School</td>\n",
       "      <td>56</td>\n",
       "    </tr>\n",
       "    <tr>\n",
       "      <th>8</th>\n",
       "      <td>Miriam G Canter Middle School</td>\n",
       "      <td>57</td>\n",
       "    </tr>\n",
       "    <tr>\n",
       "      <th>9</th>\n",
       "      <td>Evergreen Academy Middle School</td>\n",
       "      <td>60</td>\n",
       "    </tr>\n",
       "  </tbody>\n",
       "</table>\n",
       "</div>"
      ],
      "text/plain": [
       "                                      Name_of_School  Safety_Score\n",
       "0                            Northwest Middle School            34\n",
       "1  Irene C. Hernandez Middle School for the Advan...            34\n",
       "2                                 Ames Middle School            38\n",
       "3                    Thurgood Marshall Middle School            39\n",
       "4                        Pershing West Middle School            46\n",
       "5                   Francisco I Madero Middle School            49\n",
       "6         Williams Preparatory Academy Middle School            49\n",
       "7                            Logandale Middle School            56\n",
       "8                      Miriam G Canter Middle School            57\n",
       "9                    Evergreen Academy Middle School            60"
      ]
     },
     "execution_count": 17,
     "metadata": {},
     "output_type": "execute_result"
    }
   ],
   "source": [
    "query = \"SELECT TOP 10 Name_of_School, Safety_Score FROM dbo.Chicago WHERE Elementary_Middle_or_High_School = 'MS' ORDER BY Safety_Score\"\n",
    "data = pd.read_sql(query, connection)\n",
    "data"
   ]
  },
  {
   "cell_type": "markdown",
   "id": "6f564dd8",
   "metadata": {},
   "source": [
    "### Find all school has missing value in Leader Score column."
   ]
  },
  {
   "cell_type": "code",
   "execution_count": 18,
   "id": "95dff193",
   "metadata": {},
   "outputs": [
    {
     "data": {
      "text/html": [
       "<div>\n",
       "<style scoped>\n",
       "    .dataframe tbody tr th:only-of-type {\n",
       "        vertical-align: middle;\n",
       "    }\n",
       "\n",
       "    .dataframe tbody tr th {\n",
       "        vertical-align: top;\n",
       "    }\n",
       "\n",
       "    .dataframe thead th {\n",
       "        text-align: right;\n",
       "    }\n",
       "</style>\n",
       "<table border=\"1\" class=\"dataframe\">\n",
       "  <thead>\n",
       "    <tr style=\"text-align: right;\">\n",
       "      <th></th>\n",
       "      <th>Name_of_School</th>\n",
       "    </tr>\n",
       "  </thead>\n",
       "  <tbody>\n",
       "    <tr>\n",
       "      <th>0</th>\n",
       "      <td>Austin Business and Entrepreneurship Academy H...</td>\n",
       "    </tr>\n",
       "    <tr>\n",
       "      <th>1</th>\n",
       "      <td>William Jones College Preparatory High School</td>\n",
       "    </tr>\n",
       "    <tr>\n",
       "      <th>2</th>\n",
       "      <td>Walter Payton College Preparatory High School</td>\n",
       "    </tr>\n",
       "    <tr>\n",
       "      <th>3</th>\n",
       "      <td>North-Grand High School</td>\n",
       "    </tr>\n",
       "    <tr>\n",
       "      <th>4</th>\n",
       "      <td>Neal F Simeon Career Academy High School</td>\n",
       "    </tr>\n",
       "    <tr>\n",
       "      <th>...</th>\n",
       "      <td>...</td>\n",
       "    </tr>\n",
       "    <tr>\n",
       "      <th>266</th>\n",
       "      <td>South Shore Fine Arts Academy</td>\n",
       "    </tr>\n",
       "    <tr>\n",
       "      <th>267</th>\n",
       "      <td>Dr Jorge Prieto Math and Science</td>\n",
       "    </tr>\n",
       "    <tr>\n",
       "      <th>268</th>\n",
       "      <td>Skinner North</td>\n",
       "    </tr>\n",
       "    <tr>\n",
       "      <th>269</th>\n",
       "      <td>Mason High School</td>\n",
       "    </tr>\n",
       "    <tr>\n",
       "      <th>270</th>\n",
       "      <td>West Ridge Elementary School</td>\n",
       "    </tr>\n",
       "  </tbody>\n",
       "</table>\n",
       "<p>271 rows × 1 columns</p>\n",
       "</div>"
      ],
      "text/plain": [
       "                                        Name_of_School\n",
       "0    Austin Business and Entrepreneurship Academy H...\n",
       "1        William Jones College Preparatory High School\n",
       "2        Walter Payton College Preparatory High School\n",
       "3                              North-Grand High School\n",
       "4             Neal F Simeon Career Academy High School\n",
       "..                                                 ...\n",
       "266                      South Shore Fine Arts Academy\n",
       "267                   Dr Jorge Prieto Math and Science\n",
       "268                                      Skinner North\n",
       "269                                  Mason High School\n",
       "270                       West Ridge Elementary School\n",
       "\n",
       "[271 rows x 1 columns]"
      ]
     },
     "execution_count": 18,
     "metadata": {},
     "output_type": "execute_result"
    }
   ],
   "source": [
    "query = \"SELECT Name_of_School FROM dbo.Chicago WHERE Leaders_Score IS NULL\"\n",
    "data = pd.read_sql(query, connection)\n",
    "data"
   ]
  },
  {
   "cell_type": "markdown",
   "id": "e96e3152",
   "metadata": {},
   "source": [
    "### Update all missing value Leader Score column by mean of available data."
   ]
  },
  {
   "cell_type": "code",
   "execution_count": 30,
   "id": "ec21f965",
   "metadata": {},
   "outputs": [
    {
     "data": {
      "text/html": [
       "<div>\n",
       "<style scoped>\n",
       "    .dataframe tbody tr th:only-of-type {\n",
       "        vertical-align: middle;\n",
       "    }\n",
       "\n",
       "    .dataframe tbody tr th {\n",
       "        vertical-align: top;\n",
       "    }\n",
       "\n",
       "    .dataframe thead th {\n",
       "        text-align: right;\n",
       "    }\n",
       "</style>\n",
       "<table border=\"1\" class=\"dataframe\">\n",
       "  <thead>\n",
       "    <tr style=\"text-align: right;\">\n",
       "      <th></th>\n",
       "      <th>mean_score</th>\n",
       "    </tr>\n",
       "  </thead>\n",
       "  <tbody>\n",
       "    <tr>\n",
       "      <th>0</th>\n",
       "      <td>49</td>\n",
       "    </tr>\n",
       "  </tbody>\n",
       "</table>\n",
       "</div>"
      ],
      "text/plain": [
       "   mean_score\n",
       "0          49"
      ]
     },
     "execution_count": 30,
     "metadata": {},
     "output_type": "execute_result"
    }
   ],
   "source": [
    "# Tính toán giá trị trung bình của Leader Score\n",
    "query = \"SELECT AVG(Leaders_Score) AS mean_score FROM Chicago\"\n",
    "data = pd.read_sql(query, connection)\n",
    "data"
   ]
  },
  {
   "cell_type": "code",
   "execution_count": 35,
   "id": "2930fb60",
   "metadata": {},
   "outputs": [],
   "source": [
    "# Cập nhật giá trị thiếu bằng giá trị trung bình\n",
    "update_query = f\"UPDATE Chicago SET Leaders_Score = 49 WHERE Leaders_Score IS NULL\"\n",
    "cursor = connection.cursor()\n",
    "cursor.execute(update_query)\n",
    "connection.commit()"
   ]
  },
  {
   "cell_type": "code",
   "execution_count": 36,
   "id": "1d5ffb7d",
   "metadata": {},
   "outputs": [
    {
     "data": {
      "text/html": [
       "<div>\n",
       "<style scoped>\n",
       "    .dataframe tbody tr th:only-of-type {\n",
       "        vertical-align: middle;\n",
       "    }\n",
       "\n",
       "    .dataframe tbody tr th {\n",
       "        vertical-align: top;\n",
       "    }\n",
       "\n",
       "    .dataframe thead th {\n",
       "        text-align: right;\n",
       "    }\n",
       "</style>\n",
       "<table border=\"1\" class=\"dataframe\">\n",
       "  <thead>\n",
       "    <tr style=\"text-align: right;\">\n",
       "      <th></th>\n",
       "      <th>Name_of_School</th>\n",
       "    </tr>\n",
       "  </thead>\n",
       "  <tbody>\n",
       "  </tbody>\n",
       "</table>\n",
       "</div>"
      ],
      "text/plain": [
       "Empty DataFrame\n",
       "Columns: [Name_of_School]\n",
       "Index: []"
      ]
     },
     "execution_count": 36,
     "metadata": {},
     "output_type": "execute_result"
    }
   ],
   "source": [
    "query = \"SELECT Name_of_School FROM dbo.Chicago WHERE Leaders_Score IS NULL\"\n",
    "data = pd.read_sql(query, connection)\n",
    "data"
   ]
  },
  {
   "cell_type": "code",
   "execution_count": null,
   "id": "da37e7a9",
   "metadata": {},
   "outputs": [],
   "source": []
  }
 ],
 "metadata": {
  "kernelspec": {
   "display_name": "Python 3 (ipykernel)",
   "language": "python",
   "name": "python3"
  },
  "language_info": {
   "codemirror_mode": {
    "name": "ipython",
    "version": 3
   },
   "file_extension": ".py",
   "mimetype": "text/x-python",
   "name": "python",
   "nbconvert_exporter": "python",
   "pygments_lexer": "ipython3",
   "version": "3.9.13"
  }
 },
 "nbformat": 4,
 "nbformat_minor": 5
}
